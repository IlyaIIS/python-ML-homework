{
 "cells": [
  {
   "cell_type": "code",
   "execution_count": 1,
   "id": "97d62693",
   "metadata": {},
   "outputs": [],
   "source": [
    "import pandas as pd\n",
    "import numpy as np\n",
    "\n",
    "import matplotlib.pyplot as plt\n",
    "import seaborn as sns\n",
    "color = sns.color_palette()\n",
    "\n",
    "%matplotlib inline"
   ]
  },
  {
   "cell_type": "code",
   "execution_count": 2,
   "id": "52752458",
   "metadata": {},
   "outputs": [],
   "source": [
    "from statsmodels.tsa.ar_model import AutoReg\n",
    "from statsmodels.tsa.arima.model import ARIMA\n",
    "from statsmodels.tsa.statespace.sarimax import SARIMAX\n",
    "from statsmodels.tsa.vector_ar.var_model import VAR\n",
    "from statsmodels.tsa.statespace.varmax import VARMAX\n",
    "from statsmodels.tsa.holtwinters import SimpleExpSmoothing\n",
    "from statsmodels.tsa.stattools import adfuller\n",
    "from pandas.plotting import autocorrelation_plot\n",
    "import warnings\n",
    "warnings.filterwarnings('ignore')\n",
    "\n",
    "# Imputing with KNNImputer\n",
    "from sklearn.impute import KNNImputer"
   ]
  },
  {
   "cell_type": "code",
   "execution_count": 3,
   "id": "67929d20",
   "metadata": {},
   "outputs": [
    {
     "data": {
      "text/html": [
       "<div>\n",
       "<style scoped>\n",
       "    .dataframe tbody tr th:only-of-type {\n",
       "        vertical-align: middle;\n",
       "    }\n",
       "\n",
       "    .dataframe tbody tr th {\n",
       "        vertical-align: top;\n",
       "    }\n",
       "\n",
       "    .dataframe thead th {\n",
       "        text-align: right;\n",
       "    }\n",
       "</style>\n",
       "<table border=\"1\" class=\"dataframe\">\n",
       "  <thead>\n",
       "    <tr style=\"text-align: right;\">\n",
       "      <th></th>\n",
       "      <th>date</th>\n",
       "      <th>value</th>\n",
       "    </tr>\n",
       "  </thead>\n",
       "  <tbody>\n",
       "    <tr>\n",
       "      <th>731</th>\n",
       "      <td>2022-05-31</td>\n",
       "      <td>31183.7</td>\n",
       "    </tr>\n",
       "    <tr>\n",
       "      <th>732</th>\n",
       "      <td>2022-06-01</td>\n",
       "      <td>29328.6</td>\n",
       "    </tr>\n",
       "    <tr>\n",
       "      <th>733</th>\n",
       "      <td>2022-06-02</td>\n",
       "      <td>29572.8</td>\n",
       "    </tr>\n",
       "    <tr>\n",
       "      <th>734</th>\n",
       "      <td>2022-06-03</td>\n",
       "      <td>29255.0</td>\n",
       "    </tr>\n",
       "    <tr>\n",
       "      <th>735</th>\n",
       "      <td>2022-06-04</td>\n",
       "      <td>29450.1</td>\n",
       "    </tr>\n",
       "    <tr>\n",
       "      <th>...</th>\n",
       "      <td>...</td>\n",
       "      <td>...</td>\n",
       "    </tr>\n",
       "    <tr>\n",
       "      <th>1091</th>\n",
       "      <td>2023-05-26</td>\n",
       "      <td>26338.0</td>\n",
       "    </tr>\n",
       "    <tr>\n",
       "      <th>1092</th>\n",
       "      <td>2023-05-27</td>\n",
       "      <td>26554.8</td>\n",
       "    </tr>\n",
       "    <tr>\n",
       "      <th>1093</th>\n",
       "      <td>2023-05-28</td>\n",
       "      <td>26788.7</td>\n",
       "    </tr>\n",
       "    <tr>\n",
       "      <th>1094</th>\n",
       "      <td>2023-05-29</td>\n",
       "      <td>27550.0</td>\n",
       "    </tr>\n",
       "    <tr>\n",
       "      <th>1095</th>\n",
       "      <td>2023-05-30</td>\n",
       "      <td>27559.8</td>\n",
       "    </tr>\n",
       "  </tbody>\n",
       "</table>\n",
       "<p>365 rows × 2 columns</p>\n",
       "</div>"
      ],
      "text/plain": [
       "           date    value\n",
       "731  2022-05-31  31183.7\n",
       "732  2022-06-01  29328.6\n",
       "733  2022-06-02  29572.8\n",
       "734  2022-06-03  29255.0\n",
       "735  2022-06-04  29450.1\n",
       "...         ...      ...\n",
       "1091 2023-05-26  26338.0\n",
       "1092 2023-05-27  26554.8\n",
       "1093 2023-05-28  26788.7\n",
       "1094 2023-05-29  27550.0\n",
       "1095 2023-05-30  27559.8\n",
       "\n",
       "[365 rows x 2 columns]"
      ]
     },
     "execution_count": 3,
     "metadata": {},
     "output_type": "execute_result"
    }
   ],
   "source": [
    "df = pd.read_csv('home_date_miss_values.csv', sep=';')\n",
    "df['date'] = pd.to_datetime(df['date'])\n",
    "df = df[df.date > pd.to_datetime('2022-05-30')]\n",
    "df"
   ]
  },
  {
   "attachments": {},
   "cell_type": "markdown",
   "id": "b17c9620",
   "metadata": {},
   "source": [
    "# EDA"
   ]
  },
  {
   "cell_type": "code",
   "execution_count": 4,
   "id": "85526012",
   "metadata": {},
   "outputs": [
    {
     "name": "stdout",
     "output_type": "stream",
     "text": [
      "<class 'pandas.core.frame.DataFrame'>\n",
      "Index: 365 entries, 731 to 1095\n",
      "Data columns (total 2 columns):\n",
      " #   Column  Non-Null Count  Dtype         \n",
      "---  ------  --------------  -----         \n",
      " 0   date    365 non-null    datetime64[ns]\n",
      " 1   value   353 non-null    float64       \n",
      "dtypes: datetime64[ns](1), float64(1)\n",
      "memory usage: 8.6 KB\n"
     ]
    }
   ],
   "source": [
    "df.info()"
   ]
  },
  {
   "cell_type": "code",
   "execution_count": 5,
   "id": "deef0072",
   "metadata": {},
   "outputs": [
    {
     "data": {
      "text/html": [
       "<div>\n",
       "<style scoped>\n",
       "    .dataframe tbody tr th:only-of-type {\n",
       "        vertical-align: middle;\n",
       "    }\n",
       "\n",
       "    .dataframe tbody tr th {\n",
       "        vertical-align: top;\n",
       "    }\n",
       "\n",
       "    .dataframe thead th {\n",
       "        text-align: right;\n",
       "    }\n",
       "</style>\n",
       "<table border=\"1\" class=\"dataframe\">\n",
       "  <thead>\n",
       "    <tr style=\"text-align: right;\">\n",
       "      <th></th>\n",
       "      <th>date</th>\n",
       "      <th>value</th>\n",
       "    </tr>\n",
       "  </thead>\n",
       "  <tbody>\n",
       "    <tr>\n",
       "      <th>count</th>\n",
       "      <td>365</td>\n",
       "      <td>353.000000</td>\n",
       "    </tr>\n",
       "    <tr>\n",
       "      <th>mean</th>\n",
       "      <td>2022-11-29 00:00:00.000000256</td>\n",
       "      <td>21839.537677</td>\n",
       "    </tr>\n",
       "    <tr>\n",
       "      <th>min</th>\n",
       "      <td>2022-05-31 00:00:00</td>\n",
       "      <td>15470.500000</td>\n",
       "    </tr>\n",
       "    <tr>\n",
       "      <th>25%</th>\n",
       "      <td>2022-08-30 00:00:00</td>\n",
       "      <td>18937.300000</td>\n",
       "    </tr>\n",
       "    <tr>\n",
       "      <th>50%</th>\n",
       "      <td>2022-11-29 00:00:00</td>\n",
       "      <td>20957.000000</td>\n",
       "    </tr>\n",
       "    <tr>\n",
       "      <th>75%</th>\n",
       "      <td>2023-02-28 00:00:00</td>\n",
       "      <td>24210.800000</td>\n",
       "    </tr>\n",
       "    <tr>\n",
       "      <th>max</th>\n",
       "      <td>2023-05-30 00:00:00</td>\n",
       "      <td>31183.700000</td>\n",
       "    </tr>\n",
       "    <tr>\n",
       "      <th>std</th>\n",
       "      <td>NaN</td>\n",
       "      <td>4040.851138</td>\n",
       "    </tr>\n",
       "  </tbody>\n",
       "</table>\n",
       "</div>"
      ],
      "text/plain": [
       "                                date         value\n",
       "count                            365    353.000000\n",
       "mean   2022-11-29 00:00:00.000000256  21839.537677\n",
       "min              2022-05-31 00:00:00  15470.500000\n",
       "25%              2022-08-30 00:00:00  18937.300000\n",
       "50%              2022-11-29 00:00:00  20957.000000\n",
       "75%              2023-02-28 00:00:00  24210.800000\n",
       "max              2023-05-30 00:00:00  31183.700000\n",
       "std                              NaN   4040.851138"
      ]
     },
     "execution_count": 5,
     "metadata": {},
     "output_type": "execute_result"
    }
   ],
   "source": [
    "df.describe()"
   ]
  },
  {
   "cell_type": "code",
   "execution_count": 6,
   "id": "d579e8fc",
   "metadata": {},
   "outputs": [
    {
     "data": {
      "text/plain": [
       "731     31183.7\n",
       "732     29328.6\n",
       "733     29572.8\n",
       "734     29255.0\n",
       "735     29450.1\n",
       "         ...   \n",
       "1091    26338.0\n",
       "1092    26554.8\n",
       "1093    26788.7\n",
       "1094    27550.0\n",
       "1095    27559.8\n",
       "Name: value, Length: 365, dtype: float64"
      ]
     },
     "execution_count": 6,
     "metadata": {},
     "output_type": "execute_result"
    }
   ],
   "source": [
    "df.value"
   ]
  },
  {
   "cell_type": "code",
   "execution_count": 7,
   "id": "bb8a526d",
   "metadata": {},
   "outputs": [
    {
     "data": {
      "text/html": [
       "<div>\n",
       "<style scoped>\n",
       "    .dataframe tbody tr th:only-of-type {\n",
       "        vertical-align: middle;\n",
       "    }\n",
       "\n",
       "    .dataframe tbody tr th {\n",
       "        vertical-align: top;\n",
       "    }\n",
       "\n",
       "    .dataframe thead th {\n",
       "        text-align: right;\n",
       "    }\n",
       "</style>\n",
       "<table border=\"1\" class=\"dataframe\">\n",
       "  <thead>\n",
       "    <tr style=\"text-align: right;\">\n",
       "      <th></th>\n",
       "      <th>date</th>\n",
       "      <th>value</th>\n",
       "    </tr>\n",
       "  </thead>\n",
       "  <tbody>\n",
       "    <tr>\n",
       "      <th>731</th>\n",
       "      <td>2022-05-31</td>\n",
       "      <td>31183.7</td>\n",
       "    </tr>\n",
       "    <tr>\n",
       "      <th>732</th>\n",
       "      <td>2022-06-01</td>\n",
       "      <td>29328.6</td>\n",
       "    </tr>\n",
       "    <tr>\n",
       "      <th>733</th>\n",
       "      <td>2022-06-02</td>\n",
       "      <td>29572.8</td>\n",
       "    </tr>\n",
       "    <tr>\n",
       "      <th>734</th>\n",
       "      <td>2022-06-03</td>\n",
       "      <td>29255.0</td>\n",
       "    </tr>\n",
       "    <tr>\n",
       "      <th>735</th>\n",
       "      <td>2022-06-04</td>\n",
       "      <td>29450.1</td>\n",
       "    </tr>\n",
       "    <tr>\n",
       "      <th>...</th>\n",
       "      <td>...</td>\n",
       "      <td>...</td>\n",
       "    </tr>\n",
       "    <tr>\n",
       "      <th>1091</th>\n",
       "      <td>2023-05-26</td>\n",
       "      <td>26338.0</td>\n",
       "    </tr>\n",
       "    <tr>\n",
       "      <th>1092</th>\n",
       "      <td>2023-05-27</td>\n",
       "      <td>26554.8</td>\n",
       "    </tr>\n",
       "    <tr>\n",
       "      <th>1093</th>\n",
       "      <td>2023-05-28</td>\n",
       "      <td>26788.7</td>\n",
       "    </tr>\n",
       "    <tr>\n",
       "      <th>1094</th>\n",
       "      <td>2023-05-29</td>\n",
       "      <td>27550.0</td>\n",
       "    </tr>\n",
       "    <tr>\n",
       "      <th>1095</th>\n",
       "      <td>2023-05-30</td>\n",
       "      <td>27559.8</td>\n",
       "    </tr>\n",
       "  </tbody>\n",
       "</table>\n",
       "<p>365 rows × 2 columns</p>\n",
       "</div>"
      ],
      "text/plain": [
       "           date    value\n",
       "731  2022-05-31  31183.7\n",
       "732  2022-06-01  29328.6\n",
       "733  2022-06-02  29572.8\n",
       "734  2022-06-03  29255.0\n",
       "735  2022-06-04  29450.1\n",
       "...         ...      ...\n",
       "1091 2023-05-26  26338.0\n",
       "1092 2023-05-27  26554.8\n",
       "1093 2023-05-28  26788.7\n",
       "1094 2023-05-29  27550.0\n",
       "1095 2023-05-30  27559.8\n",
       "\n",
       "[365 rows x 2 columns]"
      ]
     },
     "execution_count": 7,
     "metadata": {},
     "output_type": "execute_result"
    }
   ],
   "source": [
    "df = df.ffill()\n",
    "df"
   ]
  },
  {
   "cell_type": "code",
   "execution_count": 8,
   "id": "fef0c7bb",
   "metadata": {},
   "outputs": [
    {
     "data": {
      "text/plain": [
       "[<matplotlib.lines.Line2D at 0x20a8f7610c0>]"
      ]
     },
     "execution_count": 8,
     "metadata": {},
     "output_type": "execute_result"
    },
    {
     "data": {
      "image/png": "[encoded data removed]",
      "text/plain": [
       "<Figure size 640x480 with 1 Axes>"
      ]
     },
     "metadata": {},
     "output_type": "display_data"
    }
   ],
   "source": [
    "plt.plot(df['value'])"
   ]
  },
  {
   "cell_type": "code",
   "execution_count": 9,
   "id": "47efca0b",
   "metadata": {},
   "outputs": [
    {
     "name": "stdout",
     "output_type": "stream",
     "text": [
      "<class 'pandas.core.frame.DataFrame'>\n",
      "Index: 365 entries, 731 to 1095\n",
      "Data columns (total 2 columns):\n",
      " #   Column  Non-Null Count  Dtype         \n",
      "---  ------  --------------  -----         \n",
      " 0   date    365 non-null    datetime64[ns]\n",
      " 1   value   365 non-null    float64       \n",
      "dtypes: datetime64[ns](1), float64(1)\n",
      "memory usage: 8.6 KB\n"
     ]
    }
   ],
   "source": [
    "df.info()"
   ]
  },
  {
   "cell_type": "code",
   "execution_count": 10,
   "id": "a3922f0b",
   "metadata": {},
   "outputs": [
    {
     "name": "stdout",
     "output_type": "stream",
     "text": [
      "(335, 2)\n",
      "(30, 2)\n"
     ]
    }
   ],
   "source": [
    "train_df = df[df.date < pd.to_datetime('2023-05-01')]\n",
    "test_df = df[df.date >= pd.to_datetime('2023-05-01')]\n",
    "print(train_df.shape)\n",
    "print(test_df.shape)"
   ]
  },
  {
   "cell_type": "code",
   "execution_count": 11,
   "id": "ddef7756",
   "metadata": {},
   "outputs": [
    {
     "name": "stdout",
     "output_type": "stream",
     "text": [
      "ADF Statistic: -1.9621771140607298\n",
      "p-value: 0.3033992684750788\n",
      "Critical Values: {'1%': -3.448493650810824, '5%': -2.8695352280356556, '10%': -2.5710293341377715}\n"
     ]
    }
   ],
   "source": [
    "# Проверка на стационарность\n",
    "result = adfuller(df['value'])\n",
    "print('ADF Statistic:', result[0])\n",
    "print('p-value:', result[1]) # p-value > 0.05\n",
    "print('Critical Values:', result[4]) # Critical Values < ADF Statistic"
   ]
  },
  {
   "cell_type": "code",
   "execution_count": 62,
   "id": "1d040325",
   "metadata": {},
   "outputs": [],
   "source": [
    "# Moving Avarage\n",
    "AR = ARIMA(train_df.value.values, order=(3,0,20)) # rmse = 760 \n",
    "#SimpleExpSmoothing(train_df.value.values) # rmse = 2200\n",
    "#SARIMAX(train_df.value.values, order=(4,1,20), seasonal= (1,1,1,1)) # rmse = 1900\n",
    "#ARIMA(train_df.value.values, order=(4,1,20)) # rmse = 1900\n",
    "#AutoReg(train_df.value.values, lags=11) # rmse = 970\n",
    "AR_model = AR.fit()"
   ]
  },
  {
   "cell_type": "code",
   "execution_count": 63,
   "id": "ce058124",
   "metadata": {},
   "outputs": [
    {
     "data": {
      "text/plain": [
       "array([28871.49894715, 29066.39085899, 28841.81504603, 28492.47883477,\n",
       "       28320.82106913, 28070.00309154, 27848.87677862, 27620.16394413,\n",
       "       27644.28846966, 27560.67233971, 27569.88848237, 27505.43020018,\n",
       "       27315.70326504, 27410.34437688, 27465.13712317, 27350.96893912,\n",
       "       27247.47025207, 27145.56706134, 27031.28340577, 26920.07454761,\n",
       "       26813.65064014, 26711.78370963, 26613.7718554 , 26518.93259934,\n",
       "       26426.73042225, 26336.77909139, 26248.81007457, 26162.63873955,\n",
       "       26078.13727595, 25995.21526946])"
      ]
     },
     "execution_count": 63,
     "metadata": {},
     "output_type": "execute_result"
    }
   ],
   "source": [
    "AR_model.predict(start=len(train_df),\n",
    "                 end=len(train_df) + len(test_df)-1)"
   ]
  },
  {
   "cell_type": "code",
   "execution_count": 64,
   "id": "7f13a690",
   "metadata": {},
   "outputs": [],
   "source": [
    "test_df['AR_model_prediction'] = AR_model.predict(start =len(train_df),\n",
    "                                                  end= len(train_df) + len(test_df)-1)"
   ]
  },
  {
   "cell_type": "code",
   "execution_count": 65,
   "id": "123876af",
   "metadata": {},
   "outputs": [
    {
     "data": {
      "text/plain": [
       "[<matplotlib.lines.Line2D at 0x20a93b4d060>,\n",
       " <matplotlib.lines.Line2D at 0x20a93b4d0c0>]"
      ]
     },
     "execution_count": 65,
     "metadata": {},
     "output_type": "execute_result"
    },
    {
     "data": {
      "image/png": "[encoded data removed]",
      "text/plain": [
       "<Figure size 640x480 with 1 Axes>"
      ]
     },
     "metadata": {},
     "output_type": "display_data"
    }
   ],
   "source": [
    "plt.plot(test_df[['value', 'AR_model_prediction']])"
   ]
  },
  {
   "cell_type": "code",
   "execution_count": 66,
   "id": "59b1307c",
   "metadata": {},
   "outputs": [
    {
     "name": "stdout",
     "output_type": "stream",
     "text": [
      "MAE MA_model:  625.7154183388768\n",
      "RMSE MA_model:  759.3398382061091\n"
     ]
    }
   ],
   "source": [
    "from sklearn.metrics import mean_absolute_error\n",
    "from sklearn.metrics import mean_squared_error\n",
    "\n",
    "print('MAE MA_model: ', mean_absolute_error(test_df['value'],\n",
    "                                            test_df['AR_model_prediction']))\n",
    "\n",
    "print('RMSE MA_model: ', mean_squared_error(test_df['value'],\n",
    "                                            test_df['AR_model_prediction'])**0.5)\n"
   ]
  }
 ],
 "metadata": {
  "kernelspec": {
   "display_name": "Python 3 (ipykernel)",
   "language": "python",
   "name": "python3"
  },
  "language_info": {
   "codemirror_mode": {
    "name": "ipython",
    "version": 3
   },
   "file_extension": ".py",
   "mimetype": "text/x-python",
   "name": "python",
   "nbconvert_exporter": "python",
   "pygments_lexer": "ipython3",
   "version": "3.10.5"
  }
 },
 "nbformat": 4,
 "nbformat_minor": 5
}
